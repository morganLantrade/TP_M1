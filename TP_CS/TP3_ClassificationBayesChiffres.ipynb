{
 "cells": [
  {
   "cell_type": "markdown",
   "id": "33f6e0d0",
   "metadata": {},
   "source": [
    "#  TP 3 - Reconnaissance de chiffres par classification bayésienne"
   ]
  },
  {
   "cell_type": "markdown",
   "id": "ef17a7c9",
   "metadata": {},
   "source": [
    "### Importations"
   ]
  },
  {
   "cell_type": "code",
   "execution_count": 1,
   "id": "fdf776f4",
   "metadata": {},
   "outputs": [],
   "source": [
    "import matplotlib.image as img\n",
    "import matplotlib.pyplot as plt\n",
    "import numpy as np\n",
    "\n",
    "from math import pi as PI\n",
    "\n",
    "from sklearn.datasets import fetch_openml\n",
    "from sklearn.naive_bayes import GaussianNB\n",
    "from sklearn import metrics\n",
    "from sklearn.metrics import precision_score\n",
    "from sklearn.metrics import confusion_matrix, ConfusionMatrixDisplay\n",
    "from sklearn.metrics import classification_report"
   ]
  },
  {
   "cell_type": "markdown",
   "id": "148a3269",
   "metadata": {},
   "source": [
    "### Chargement de données "
   ]
  },
  {
   "cell_type": "code",
   "execution_count": 2,
   "id": "26beb401",
   "metadata": {},
   "outputs": [],
   "source": [
    "mnist = fetch_openml(\"mnist_784\")\n",
    "X, y = mnist[\"data\"], mnist[\"target\"]"
   ]
  },
  {
   "cell_type": "markdown",
   "id": "6581ede3",
   "metadata": {},
   "source": [
    "### Prétraitement (ACP,standard)\n"
   ]
  },
  {
   "cell_type": "code",
   "execution_count": 3,
   "id": "54b1d7bb",
   "metadata": {},
   "outputs": [],
   "source": [
    "def ACP(X,k):\n",
    "    M=np.cov(X.T)\n",
    "    M=np.round(M,10)\n",
    "    eigen_values,P=np.linalg.eig(M)\n",
    "    new_P=P[:,:k]\n",
    "    new_X=np.dot(new_P.T,X.T).T\n",
    "    \n",
    "    return eigen_values,P,new_X\n",
    "\n",
    "def inertie(k,eigen_values):\n",
    "    total=np.sum(eigen_values)\n",
    "    return np.sum(eigen_values[:k])/total\n",
    "\n",
    "def les_inerties(k,eigen_values):\n",
    "    the_range_inertie=list(range(k+1))\n",
    "    return the_range_inertie,[ inertie(k,eigen_values) for k in the_range_inertie]\n",
    "\n",
    "def les_eboulies(k,eigen_values):\n",
    "    the_range_eboulie=list(range(1,k+1))\n",
    "    return the_range_eboulie,[ eigen_values[k-1] for k in the_range_eboulie]\n",
    "\n",
    "def show_inertie_eboulie(n_first_components,eigen_values):\n",
    "    #calculs\n",
    "    the_range_inertie,inertie=les_inerties(n_first_components,eigen_values)\n",
    "    the_range_eboulie,eboulie=les_eboulies(n_first_components,eigen_values)\n",
    "    #affichages\n",
    "    fig, axs = plt.subplots(1,2)\n",
    "    fig.set_figheight(4)\n",
    "    fig.set_figwidth(12)\n",
    "    axs[0].plot(the_range_inertie,inertie)\n",
    "    axs[0].set_xlabel(f'{n_first_components} premieres composantes')\n",
    "    axs[0].set_ylabel('inertie')\n",
    "    axs[0].set_title(f'Inertie des {n_first_components} premiere composantes')\n",
    "    axs[1].bar(the_range_eboulie,eboulie,1)\n",
    "    axs[1].set_xlabel(f'{n_first_components} premieres composantes')\n",
    "    axs[1].set_ylabel('eboulie')\n",
    "    axs[1].set_title(f'Eboulie   des {n_first_components} premiere composantes')\n",
    "\n"
   ]
  },
  {
   "cell_type": "code",
   "execution_count": 4,
   "id": "d7573669",
   "metadata": {},
   "outputs": [],
   "source": [
    "eigen_values,P,new_X=ACP(X,150)"
   ]
  },
  {
   "cell_type": "code",
   "execution_count": 5,
   "id": "95bfbb8d",
   "metadata": {},
   "outputs": [
    {
     "data": {
      "image/png": "[encoded data removed]",
      "text/plain": [
       "<Figure size 864x288 with 2 Axes>"
      ]
     },
     "metadata": {
      "needs_background": "light"
     },
     "output_type": "display_data"
    }
   ],
   "source": [
    "show_inertie_eboulie(784,eigen_values)"
   ]
  },
  {
   "cell_type": "code",
   "execution_count": 6,
   "id": "b6734010",
   "metadata": {},
   "outputs": [
    {
     "name": "stdout",
     "output_type": "stream",
     "text": [
      "(60000, 150) (4000, 150) (60000,) (4000,)\n"
     ]
    }
   ],
   "source": [
    "def standard(X):\n",
    "    return (X-np.mean(X,axis=0))/np.std(X,axis=0) #axe des variables sont les colonnes\n",
    "def data_split(X,y,nb_a,nb_t):\n",
    "    X=standard(X)\n",
    "    Xa=np.asarray(X[:nb_a])\n",
    "    Xt=np.asarray(X[X.shape[0]-nb_t:])\n",
    "    Ya=np.asarray([int(y1) for y1 in y[:nb_a]])\n",
    "    Yt=np.asarray([int(y1) for y1 in y[X.shape[0]-nb_t:]])\n",
    "    return Xa,Xt,Ya,Yt\n",
    "\n",
    "#Split données réduites et normalisées\n",
    "Xa,Xt,Ya,Yt = data_split(new_X,y,60000,4000)\n",
    "print(Xa.shape,Xt.shape,Ya.shape,Yt.shape)\n"
   ]
  },
  {
   "cell_type": "markdown",
   "id": "a62ae183",
   "metadata": {},
   "source": [
    "<div class=\"alert alert-block alert-info\">\n",
    "<b>Réponse:</b> 150 composantes devraient garder assez d'information. </div>"
   ]
  },
  {
   "cell_type": "markdown",
   "id": "0dd034a1",
   "metadata": {},
   "source": [
    "## Classification bayesienne"
   ]
  },
  {
   "cell_type": "code",
   "execution_count": 7,
   "id": "605484ae",
   "metadata": {},
   "outputs": [],
   "source": [
    "class GaussianBayes(object):\n",
    "    \"\"\" Classification bayesienne Gaussienne\n",
    "    \"\"\"\n",
    "    def __init__(self,nb_class,prior=False) -> None:\n",
    "        self.prior=prior # naif ou non\n",
    "                                # (n_classes,)\n",
    "        self.mu = None          #  mean of each feature per class\n",
    "                                # (n_classes, n_features)\n",
    "        self.sigma = None       # covariance of each feature per class\n",
    "        self.nb_class=nb_class                  # (n_classes, n_features, n_features)\n",
    "        \n",
    "        \n",
    "\n",
    "\n",
    "    def fit(self, X:np.ndarray, y:np.ndarray, ) -> None:\n",
    "        \"\"\"Learning : estime self.mu et self.sigma\n",
    "        \n",
    "        X : shape (n_data, n_features)\n",
    "        y : shape (n_data)\n",
    "        \"\"\"\n",
    "        self.mu=np.array([ np.mean(X[np.where(y==i)],axis=0) for i in range(self.nb_class) ])\n",
    "        self.sigma=np.array([ np.cov(X[np.where(y==i)].T) for i in range(self.nb_class) ])\n",
    "       \n",
    "        if self.prior:\n",
    "            tp,nb_tp=np.unique(y,return_counts=True)\n",
    "            priors= [ nb/sum(nb_tp) for nb in nb_tp]\n",
    "            self.priors = np.array(priors)    # proba a priori\n",
    "        else:\n",
    "            self.priors = np.array([1 for _ in range(self.nb_class)])\n",
    "            \n",
    "\n",
    "    def predict(self, X:np.ndarray) -> np.ndarray:\n",
    "        \"\"\"retourne un vecteur de prédictions sur X contenant les indices des classes prédites\n",
    "\n",
    "        X shape = [n_samples, n_features]\n",
    "        maximum log-likelihood\n",
    "        \"\"\"\n",
    "        det=np.array([ np.linalg.det(self.sigma[i]) for i in range(self.nb_class) ])\n",
    "        P=[]\n",
    "        for i in range(self.nb_class):\n",
    "            C1=X-self.mu[i]\n",
    "            C1_T=C1.T\n",
    "            S=np.linalg.inv(self.sigma[i])\n",
    "            B=(-1/2)*np.dot(C1.dot(S),C1_T)   #pas d'exponentielle car log\n",
    "            A=np.log(1/((2*PI)**(self.nb_class/2)*det[i]**0.5))\n",
    "            P.append(A+B) #somme car log\n",
    "       \n",
    "        P1=np.array([ np.diag(P[i]) for i in range(self.nb_class) ]).T\n",
    "        P1=(-P1*self.priors)\n",
    "        prediction = np.argsort(P1, axis=1)[:,:1]\n",
    "        return np.ravel(prediction)"
   ]
  },
  {
   "cell_type": "code",
   "execution_count": 8,
   "id": "eefe177f",
   "metadata": {},
   "outputs": [],
   "source": [
    "test=GaussianBayes(10,False)\n",
    "test.fit(Xa,Ya)"
   ]
  },
  {
   "cell_type": "code",
   "execution_count": 9,
   "id": "f5e217b3",
   "metadata": {},
   "outputs": [
    {
     "name": "stdout",
     "output_type": "stream",
     "text": [
      "(10, 150)\n",
      "[ 1.72699048 -0.34252794  0.29608032 -0.28525826  1.31332212]\n",
      "(10, 150, 150)\n",
      "[6.72217940e-046 3.81395642e-151 1.14779870e-024 2.95334156e-029\n",
      " 4.95833120e-044 1.62082871e-030 4.19181071e-070 1.01857878e-076\n",
      " 1.85195829e-023 1.00291802e-068]\n"
     ]
    }
   ],
   "source": [
    "print(test.mu.shape)\n",
    "print(test.sigma.shape)"
   ]
  },
  {
   "cell_type": "code",
   "execution_count": 10,
   "id": "127bf62a",
   "metadata": {},
   "outputs": [
    {
     "name": "stdout",
     "output_type": "stream",
     "text": [
      "(4000,)\n"
     ]
    }
   ],
   "source": [
    "pred=test.predict(Xt)\n",
    "print(pred.shape)"
   ]
  },
  {
   "cell_type": "markdown",
   "id": "5b090646",
   "metadata": {},
   "source": [
    "### Evaluation de la classification"
   ]
  },
  {
   "cell_type": "code",
   "execution_count": 11,
   "id": "0baca0cf",
   "metadata": {},
   "outputs": [
    {
     "name": "stdout",
     "output_type": "stream",
     "text": [
      "Precision : 96.92%\n"
     ]
    }
   ],
   "source": [
    "score=sum(y_true==y_pred for y_true,y_pred in zip(Yt,pred))/Yt.shape[0]\n",
    "print(f'Precision : {round(score*100,2)}%')"
   ]
  },
  {
   "cell_type": "code",
   "execution_count": 12,
   "id": "75a8917c",
   "metadata": {},
   "outputs": [
    {
     "name": "stdout",
     "output_type": "stream",
     "text": [
      "              precision    recall  f1-score   support\n",
      "\n",
      "           0       0.98      0.98      0.98       412\n",
      "           1       1.00      0.96      0.98       449\n",
      "           2       0.95      0.97      0.96       407\n",
      "           3       0.97      0.95      0.96       415\n",
      "           4       0.98      0.99      0.99       383\n",
      "           5       0.97      0.97      0.97       344\n",
      "           6       0.98      0.98      0.98       396\n",
      "           7       0.97      0.97      0.97       419\n",
      "           8       0.90      0.98      0.93       387\n",
      "           9       0.99      0.94      0.96       388\n",
      "\n",
      "    accuracy                           0.97      4000\n",
      "   macro avg       0.97      0.97      0.97      4000\n",
      "weighted avg       0.97      0.97      0.97      4000\n",
      "\n"
     ]
    },
    {
     "data": {
      "image/png": "[encoded data removed]",
      "text/plain": [
       "<Figure size 432x288 with 2 Axes>"
      ]
     },
     "metadata": {
      "needs_background": "light"
     },
     "output_type": "display_data"
    }
   ],
   "source": [
    "cm = confusion_matrix(Yt,pred)\n",
    "disp = ConfusionMatrixDisplay(confusion_matrix=cm)\n",
    "disp.plot()\n",
    "print(classification_report(Yt,pred))"
   ]
  },
  {
   "cell_type": "markdown",
   "id": "3ac57e0b",
   "metadata": {},
   "source": [
    "<div class=\"alert alert-block alert-info\">\n",
    "<b>Réponse:</b> L'erreur la plus fréquente est de classer un 8 en 1 ( 14 occurences ).\n",
    "\n",
    "Néamoins, aucun 1 n'est mal classé.\n",
    "</div>"
   ]
  }
 ],
 "metadata": {
  "kernelspec": {
   "display_name": "Python 3 (ipykernel)",
   "language": "python",
   "name": "python3"
  },
  "language_info": {
   "codemirror_mode": {
    "name": "ipython",
    "version": 3
   },
   "file_extension": ".py",
   "mimetype": "text/x-python",
   "name": "python",
   "nbconvert_exporter": "python",
   "pygments_lexer": "ipython3",
   "version": "3.7.13"
  }
 },
 "nbformat": 4,
 "nbformat_minor": 5
}
