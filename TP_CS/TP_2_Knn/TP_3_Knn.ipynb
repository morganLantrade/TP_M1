{
 "cells": [
  {
   "cell_type": "markdown",
   "id": "contained-community",
   "metadata": {},
   "source": [
    "# TP2 - Reconnaissance de chiffres manuscrits par $k$ plus proches voisins\n",
    "\n",
    "L'objectif de ce TP est de reconnaître des chiffres manuscrits d'une base de test à partir d'une base d'apprentissage et de la méthode des $k$ plus proches voisins. \n",
    "La base de données du MNIST{\\footnote{http://yann.lecun.com/exdb/mnist/}} sur les chiffres manuscrits comprend un ensemble de 60 000 exemples d'apprentissage (*database_train_images*) et un ensemble de 10 000 exemples de test (*database_test_images*).  Les chiffres, dont quelques exemples sont représentés sur la figure ci-dessous, ont été normalisés et centrés dans une image de taille fixe $28\\times 28$ pixels. \n",
    "\n",
    "<img src=\"MNIST.PNG\" width=\"600\" height=\"400\"  >\n",
    "\n",
    "\n",
    "\n",
    "\n",
    "Chaque image est considérée comme un vecteur 1D de $28\\times 28=784$ coordonnées. On fournit les labels des ensembles d'apprentissage (*y_train*) et de test \n",
    "(*y_test*)."
   ]
  },
  {
   "cell_type": "code",
   "execution_count": 3,
   "id": "brutal-increase",
   "metadata": {},
   "outputs": [],
   "source": [
    "import matplotlib.pyplot as plt\n",
    "import numpy as np\n",
    "import sklearn\n",
    "import pandas as pd\n",
    "import math\n",
    "import scipy as sc\n",
    "from sklearn.metrics.pairwise import euclidean_distances"
   ]
  },
  {
   "cell_type": "markdown",
   "id": "occupied-planet",
   "metadata": {},
   "source": [
    "### Chargement de la base de données MNIST\n",
    "\n",
    "Lien du dataset des chiffres manuscrits :\n",
    "http://yann.lecun.com/exdb/mnist/"
   ]
  },
  {
   "cell_type": "code",
   "execution_count": 4,
   "id": "3abcfcc4",
   "metadata": {},
   "outputs": [
    {
     "name": "stdout",
     "output_type": "stream",
     "text": [
      "DataApp: (60000, 784)\n",
      "LabelApp: (10000, 784)\n",
      "DataTest:  (60000,)\n",
      "LabelTest:  (10000,)\n"
     ]
    }
   ],
   "source": [
    "from sklearn.datasets import fetch_openml\n",
    "mnist = fetch_openml(\"mnist_784\")\n",
    "\n",
    "X, y = mnist[\"data\"], mnist[\"target\"]\n",
    "\n",
    "Xa,Xt,Ya,Yt = X[:60000] , X[60000:] , y[:60000] , y[60000:]\n",
    "\n",
    "print('DataApp: ' + str(Xa.shape))\n",
    "print('LabelApp: ' + str(Xt.shape))\n",
    "print('DataTest:  '  + str(Ya.shape))\n",
    "print('LabelTest:  '  + str(Yt.shape))\n",
    "\n",
    "# Conversion en matrices\n",
    "Xa=np.asarray(Xa)\n",
    "Xt=np.asarray(Xt)\n",
    "Ya=np.asarray(Ya)\n",
    "Yt=np.asarray(Yt)"
   ]
  },
  {
   "cell_type": "code",
   "execution_count": 5,
   "id": "13456dfe",
   "metadata": {},
   "outputs": [
    {
     "data": {
      "image/png": "[encoded data removed]",
      "text/plain": [
       "<Figure size 432x288 with 1 Axes>"
      ]
     },
     "metadata": {
      "needs_background": "light"
     },
     "output_type": "display_data"
    },
    {
     "name": "stdout",
     "output_type": "stream",
     "text": [
      "le label de cette image d'apprentissage est : 3\n"
     ]
    },
    {
     "data": {
      "image/png": "[encoded data removed]",
      "text/plain": [
       "<Figure size 432x288 with 1 Axes>"
      ]
     },
     "metadata": {
      "needs_background": "light"
     },
     "output_type": "display_data"
    },
    {
     "name": "stdout",
     "output_type": "stream",
     "text": [
      "le label de cette image de test est : 8\n"
     ]
    }
   ],
   "source": [
    "# Affichage d'images de ce jeu de données : \n",
    "\n",
    "# on affiche une donnée image de X_train et X_test :\n",
    "NumImageTrain=12345 # à choisir entre 0 et 59999\n",
    "Exple1=Xa[NumImageTrain,:]\n",
    "ImExple1=np.reshape(Exple1,[28,28])\n",
    "plt.imshow(ImExple1)\n",
    "plt.show()\n",
    "print(\"le label de cette image d'apprentissage est :\", Ya[NumImageTrain])\n",
    "\n",
    "NumImageTest=1234 # à choisir entre 0 et 9999\n",
    "Exple2=Xt[NumImageTest,:]\n",
    "ImExple2=np.reshape(Exple2,[28,28])\n",
    "plt.imshow(ImExple2)\n",
    "plt.show()\n",
    "print(\"le label de cette image de test est :\", Yt[NumImageTest])"
   ]
  },
  {
   "cell_type": "markdown",
   "id": "flying-cream",
   "metadata": {},
   "source": [
    "## Exercice 1 : méthode des $k$ plus proches voisins\n",
    "\n",
    "En intelligence artificielle, la méthode des $k$ plus proches voisins  ($k$-ppv) est une méthode d'apprentissage supervisé. \n",
    "Dans ce cadre, on dispose d'une base de données d'apprentissage constituée de couples « donnée-label ». Pour estimer la sortie associée à une nouvelle entrée $x$, la méthode des $k$ plus proches voisins consiste à prendre en compte (de façon identique) les $k$ échantillons d'apprentissage dont l'entrée est la plus proche de la nouvelle entrée $x$, selon une distance à définir. L'algorithme  associé  et un exemple sont donnés par la suite.\n",
    "\n",
    "\n",
    "\n",
    "<img src=\"files/AlgoKppv.png\" width=\"900\" height=\"800\"  >\n",
    "\n",
    "<img src=\"files/kppv.png\" width=\"300\" height=\"300\"  >\n",
    "\n",
    "\n",
    "**Exemple de classification $k$-ppv:** L'échantillon de test (cercle vert) doit être classé soit dans la première classe des carrés bleus, soit dans la deuxième classe des triangles rouges. Si k = 3 (cercle plein), il est assigné à la deuxième classe parce qu'il y a 2 triangles et seulement 1 carré à l'intérieur du cercle intérieur. Si k = 5 (cercle en pointillés), il est assigné à la première classe (3 carrés contre 2 triangles à l'intérieur du cercle extérieur)"
   ]
  },
  {
   "cell_type": "markdown",
   "id": "suffering-forum",
   "metadata": {},
   "source": [
    "**Question :**\n",
    "En utilisant la distance euclidienne, complétez la fonction *kppv* permettant d'effectuer la classification par $k$-ppv sur un ensemble de test à partir d'un ensemble d'apprentissage et de leurs labels et en spécifiant le nombre $k$  voisins que l'on cherche.  \n",
    "\n"
   ]
  },
  {
   "cell_type": "markdown",
   "id": "70a98630",
   "metadata": {},
   "source": [
    "### Fonctions python intéressantes : \n",
    "Liste de fonctions (librairies) :\n",
    "\n",
    "- euclidean_distance (sklearn) \n",
    "- mode (scipy.stats) [à changer pour traiter le cas d'égalité]\n",
    "- argsort (numpy)\n"
   ]
  },
  {
   "cell_type": "code",
   "execution_count": 6,
   "id": "bigger-insulation",
   "metadata": {},
   "outputs": [],
   "source": [
    "\n",
    "def kppv(Xa,Xt,Ya,K,Nt=Xt.shape[0],Na=Xa.shape[0]):\n",
    "    M_distances=euclidean_distances(Xt[:Nt,:],Xa[:Na,:]) # la distance de tous les points test avec ceux de Xa\n",
    "    \n",
    "    # Initialisation du vecteur d'etiquetage des images tests\n",
    "    Partition = np.empty((Nt,1),dtype=str);\n",
    "\n",
    "    # Boucle sur les vecteurs test de l'ensemble de l'evaluation\n",
    "    for i in range(Nt):\n",
    "               \n",
    "        # Calcul des distances entre les vecteurs de test \n",
    "        # et les vecteurs d'apprentissage (voisins)\n",
    "        distances=M_distances[i,:]\n",
    "        # On ne garde que les indices des K + proches voisins\n",
    "        i_voisins= np.argsort(distances)[:K]\n",
    "        voisins= np.array([Ya[i] for i in i_voisins])\n",
    "        \n",
    "        # Comptage du nombre de voisins appartenant a chaque classe\n",
    "        v,v_count=np.unique(voisins,return_counts=True)\n",
    "        \n",
    "        # Recherche de la classe contenant le maximum de voisins\n",
    "        i_voisins_max=np.argsort(-v_count)\n",
    "        \n",
    "        # Si l'image test a le plus grand nombre de voisins dans plusieurs  \n",
    "        # classes differentes, alors on lui assigne celle du voisin le + proche,\n",
    "        # sinon on lui assigne l'unique classe contenant le plus de voisins \n",
    "        if len(v_count)>1 and v_count[i_voisins_max[0]]==v_count[i_voisins_max[1]]:\n",
    "            predict=voisins[0] # le plus proche\n",
    "        else:\n",
    "            predict=v[i_voisins_max[0]]\n",
    "        \n",
    "        # Assignation de l'etiquette correspondant ‡ la classe trouvee au point \n",
    "        # correspondant a la i-eme image test dans le vecteur \"Partition\" \n",
    "        Partition[i][0]=predict\n",
    "    \n",
    "\n",
    "    return np.ravel(Partition)"
   ]
  },
  {
   "cell_type": "code",
   "execution_count": 7,
   "id": "infectious-diving",
   "metadata": {},
   "outputs": [
    {
     "name": "stdout",
     "output_type": "stream",
     "text": [
      "Resultat Kppv ['7' '2' '1' '0' '4' '1' '4' '9' '5' '9' '0' '6' '9' '0' '1' '5' '9' '7'\n",
      " '3' '4' '9' '6' '6' '5' '4' '0' '7' '4' '0' '1' '3' '1' '3' '4' '7' '2'\n",
      " '7' '1' '2' '1' '1' '7' '4' '1' '3' '5' '1' '2' '4' '4' '6' '3' '5' '5'\n",
      " '6' '0' '4' '1' '9' '5' '7' '8' '9' '3' '7' '4' '6' '4' '3' '0' '7' '0'\n",
      " '2' '9' '1' '7' '3' '7' '9' '7' '7' '6' '2' '7' '8' '4' '7' '3' '6' '1'\n",
      " '3' '6' '9' '3' '1' '4' '1' '7' '6' '9']\n",
      "Vérité terrain ['7' '2' '1' '0' '4' '1' '4' '9' '5' '9' '0' '6' '9' '0' '1' '5' '9' '7'\n",
      " '3' '4' '9' '6' '6' '5' '4' '0' '7' '4' '0' '1' '3' '1' '3' '4' '7' '2'\n",
      " '7' '1' '2' '1' '1' '7' '4' '2' '3' '5' '1' '2' '4' '4' '6' '3' '5' '5'\n",
      " '6' '0' '4' '1' '9' '5' '7' '8' '9' '3' '7' '4' '6' '4' '3' '0' '7' '0'\n",
      " '2' '9' '1' '7' '3' '2' '9' '7' '7' '6' '2' '7' '8' '4' '7' '3' '6' '1'\n",
      " '3' '6' '9' '3' '1' '4' '1' '7' '6' '9']\n"
     ]
    }
   ],
   "source": [
    "# Choix du nombre de voisins\n",
    "K = 10;\n",
    "\n",
    "# Nombre de données à tester\n",
    "Nt_test = 100; # A changer, pouvant aller jusqu'a Nt\n",
    "\n",
    "\n",
    "# Classement par aux k-ppv\n",
    "Partition = kppv(Xa,Xt,Ya,K,Nt_test);\n",
    "\n",
    "# Affichage des résultats de prédiction et de vérité terrainMatriceConfusion=np.zeros((10,10))\n",
    "print('Resultat Kppv',Partition)\n",
    "print('Vérité terrain',Yt[:Nt_test])"
   ]
  },
  {
   "cell_type": "markdown",
   "id": "seventh-merchandise",
   "metadata": {},
   "source": [
    "## Exercice 2 : évaluation de la reconnaissance\n",
    "\n",
    "En disposant des labels exacts des données de l'ensemble de test, l'évaluation de la bonne reconnaissance est réalisée par une matrice de confusion et par un taux d'erreur:\n",
    "- La matrice de confusion est une matrice $10\\times 10$ dont l'élément générique d'indice $(i,j)$ est le nombre de vecteurs de classe correspondant à l'indice $i$ qui ont été affectés à la classe correspondant à l'indice $j$ par le processus de décision. Si la matrice de confusion est diagonale alors la reconnaissance est parfaite.\n",
    "- le taux d'erreur correspond à un pourcentage défini par le nombre d'éléments hors diagonaux de la matrice de confusion divisé par le nombre total d'éléments testés.\n",
    "\n",
    "<img src=\"MatConfus.PNG\" width=\"600\" height=\"400\"  >\n"
   ]
  },
  {
   "cell_type": "markdown",
   "id": "prospective-buyer",
   "metadata": {},
   "source": [
    "**Question :**\n",
    "- En utilisant les labels de l'ensemble de test, complétez *kppv* afin de rajouter le calcul de la matrice de confusion et le taux d'erreur.\n",
    "- Testez l'algorithme pour $k=1$ et $k=10$ et calculez les taux d'erreur respectifs."
   ]
  },
  {
   "cell_type": "code",
   "execution_count": 8,
   "id": "included-transportation",
   "metadata": {},
   "outputs": [
    {
     "name": "stdout",
     "output_type": "stream",
     "text": [
      "[[ 8  0  0  0  0  0  0  0  0  0]\n",
      " [ 0 14  1  0  0  0  0  0  0  0]\n",
      " [ 0  0  6  0  0  0  0  0  0  0]\n",
      " [ 0  0  0 11  0  0  0  0  0  0]\n",
      " [ 0  0  0  0 14  0  0  0  0  0]\n",
      " [ 0  0  0  0  0  7  0  0  0  0]\n",
      " [ 0  0  0  0  0  0 10  0  0  0]\n",
      " [ 0  0  1  0  0  0  0 15  0  0]\n",
      " [ 0  0  0  0  0  0  0  0  2  0]\n",
      " [ 0  0  0  0  0  0  0  0  0 11]]\n"
     ]
    }
   ],
   "source": [
    "from sklearn.metrics import confusion_matrix\n",
    "conf=confusion_matrix(Partition,Yt[:Nt_test])\n",
    "print(conf)\n"
   ]
  },
  {
   "cell_type": "code",
   "execution_count": 9,
   "id": "4befdf64",
   "metadata": {},
   "outputs": [
    {
     "name": "stdout",
     "output_type": "stream",
     "text": [
      "              precision    recall  f1-score   support\n",
      "\n",
      "           0       1.00      1.00      1.00         8\n",
      "           1       1.00      0.93      0.97        15\n",
      "           2       0.75      1.00      0.86         6\n",
      "           3       1.00      1.00      1.00        11\n",
      "           4       1.00      1.00      1.00        14\n",
      "           5       1.00      1.00      1.00         7\n",
      "           6       1.00      1.00      1.00        10\n",
      "           7       1.00      0.94      0.97        16\n",
      "           8       1.00      1.00      1.00         2\n",
      "           9       1.00      1.00      1.00        11\n",
      "\n",
      "    accuracy                           0.98       100\n",
      "   macro avg       0.97      0.99      0.98       100\n",
      "weighted avg       0.98      0.98      0.98       100\n",
      "\n"
     ]
    }
   ],
   "source": [
    "from sklearn.metrics import classification_report\n",
    "print(classification_report(Partition,Yt[:Nt_test],target_names=['0','1','2','3','4','5','6','7','8','9']))"
   ]
  },
  {
   "cell_type": "code",
   "execution_count": 95,
   "id": "3551f229",
   "metadata": {},
   "outputs": [],
   "source": [
    "def evaluerKnn(Xa,ya,Xt,yt,K,N_t,N_a=Xa.shape[0]):\n",
    "    prediction=kppv(Xa,Xt,ya,K,N_t,N_a)\n",
    "    print('Matrice de confusion :')\n",
    "    print(confusion_matrix(prediction,yt[:N_t]))\n",
    "    print('Accuracy :')\n",
    "    print(classification_report(prediction,yt[:N_t],target_names=['0','1','2','3','4','5','6','7','8','9']))\n",
    "    #print(sum([ prediction[i]==yt[i] for i in range(len(prediction))])/len(prediction))"
   ]
  },
  {
   "cell_type": "code",
   "execution_count": 11,
   "id": "3a7d6d13",
   "metadata": {},
   "outputs": [
    {
     "name": "stdout",
     "output_type": "stream",
     "text": [
      "Matrice de confusion :\n",
      "[[ 85   0   2   0   0   0   2   0   1   0]\n",
      " [  0 126   3   1   1   0   0   2   1   0]\n",
      " [  0   0 104   0   0   0   0   0   0   0]\n",
      " [  0   0   0 101   0   0   0   0   3   1]\n",
      " [  0   0   0   0 102   1   1   1   1   0]\n",
      " [  0   0   0   2   0  85   0   0   0   0]\n",
      " [  0   0   1   0   1   0  84   0   0   0]\n",
      " [  0   0   5   2   0   0   0  96   0   1]\n",
      " [  0   0   1   0   0   0   0   0  82   1]\n",
      " [  0   0   0   1   6   1   0   0   1  91]]\n",
      "Accuracy :\n",
      "              precision    recall  f1-score   support\n",
      "\n",
      "           0       1.00      0.94      0.97        90\n",
      "           1       1.00      0.94      0.97       134\n",
      "           2       0.90      1.00      0.95       104\n",
      "           3       0.94      0.96      0.95       105\n",
      "           4       0.93      0.96      0.94       106\n",
      "           5       0.98      0.98      0.98        87\n",
      "           6       0.97      0.98      0.97        86\n",
      "           7       0.97      0.92      0.95       104\n",
      "           8       0.92      0.98      0.95        84\n",
      "           9       0.97      0.91      0.94       100\n",
      "\n",
      "    accuracy                           0.96      1000\n",
      "   macro avg       0.96      0.96      0.96      1000\n",
      "weighted avg       0.96      0.96      0.96      1000\n",
      "\n"
     ]
    }
   ],
   "source": [
    "evaluerKnn(Xa,Ya,Xt,Yt,10,1000)"
   ]
  },
  {
   "cell_type": "code",
   "execution_count": 101,
   "id": "b6f702ac",
   "metadata": {},
   "outputs": [
    {
     "name": "stdout",
     "output_type": "stream",
     "text": [
      "Matrice de confusion :\n",
      "[[ 974    0    9    0    0    4    4    0    7    3]\n",
      " [   1 1133    7    1    5    1    3   18    0    4]\n",
      " [   1    2  997    4    0    0    0    4    3    2]\n",
      " [   0    0    2  975    0   12    0    0   13    7]\n",
      " [   0    0    0    1  948    2    4    2    5    9]\n",
      " [   1    0    0   13    0  860    3    0   11    4]\n",
      " [   2    0    1    1    5    5  944    0    3    1]\n",
      " [   1    0   14    7    4    1    0  994    4    8]\n",
      " [   0    0    2    4    1    3    0    0  923    2]\n",
      " [   0    0    0    4   19    4    0   10    5  969]]\n",
      "Accuracy :\n",
      "              precision    recall  f1-score   support\n",
      "\n",
      "           0       0.99      0.97      0.98      1001\n",
      "           1       1.00      0.97      0.98      1173\n",
      "           2       0.97      0.98      0.98      1013\n",
      "           3       0.97      0.97      0.97      1009\n",
      "           4       0.97      0.98      0.97       971\n",
      "           5       0.96      0.96      0.96       892\n",
      "           6       0.99      0.98      0.98       962\n",
      "           7       0.97      0.96      0.96      1033\n",
      "           8       0.95      0.99      0.97       935\n",
      "           9       0.96      0.96      0.96      1011\n",
      "\n",
      "    accuracy                           0.97     10000\n",
      "   macro avg       0.97      0.97      0.97     10000\n",
      "weighted avg       0.97      0.97      0.97     10000\n",
      "\n",
      "0.9717\n"
     ]
    }
   ],
   "source": [
    "evaluerKnn(Xa,Ya,Xt,Yt,3,10000)"
   ]
  },
  {
   "cell_type": "code",
   "execution_count": 70,
   "id": "131815b0",
   "metadata": {},
   "outputs": [],
   "source": [
    "\n",
    "def ACP(X):\n",
    "    '''Retournes les images des 3 composantes de X et\n",
    "    la shape de la photo avant transformation'''\n",
    "    M=np.cov(X.T)\n",
    "    M=np.round(M,15)\n",
    "    eigen_values,P=np.linalg.eig(M)\n",
    "    return eigen_values,P\n",
    "\n"
   ]
  },
  {
   "cell_type": "code",
   "execution_count": 73,
   "id": "3fc4dd47",
   "metadata": {},
   "outputs": [
    {
     "name": "stdout",
     "output_type": "stream",
     "text": [
      "True\n"
     ]
    }
   ],
   "source": [
    "eigen_values,P=ACP(Xa)"
   ]
  },
  {
   "cell_type": "code",
   "execution_count": 74,
   "id": "2dde6112",
   "metadata": {},
   "outputs": [
    {
     "name": "stdout",
     "output_type": "stream",
     "text": [
      "<class 'numpy.float64'>\n"
     ]
    }
   ],
   "source": [
    "print(type(eigen_values[0]))"
   ]
  },
  {
   "cell_type": "code",
   "execution_count": 76,
   "id": "c0fe9695",
   "metadata": {},
   "outputs": [],
   "source": [
    "def inertie(k,eigen_values):\n",
    "    total=np.sum(eigen_values)\n",
    "    return np.sum(eigen_values[:k])/total\n",
    "\n",
    "def les_inerties(k,eigen_values):\n",
    "    the_range_inertie=list(range(k+1))\n",
    "    return the_range_inertie,[ inertie(k,eigen_values) for k in the_range_inertie]\n",
    "\n",
    "def les_eboulies(k,eigen_values):\n",
    "    the_range_eboulie=list(range(1,k+1))\n",
    "    return the_range_eboulie,[ eigen_values[k-1] for k in the_range_eboulie]"
   ]
  },
  {
   "cell_type": "code",
   "execution_count": 93,
   "id": "b87691b6",
   "metadata": {},
   "outputs": [
    {
     "data": {
      "image/png": "[encoded data removed]",
      "text/plain": [
       "<Figure size 864x288 with 2 Axes>"
      ]
     },
     "metadata": {
      "needs_background": "light"
     },
     "output_type": "display_data"
    }
   ],
   "source": [
    "def show_inertie_eboulie(n_first_components,eigen_values):\n",
    "    #calculs\n",
    "    the_range_inertie,inertie=les_inerties(n_first_components,eigen_values)\n",
    "    the_range_eboulie,eboulie=les_eboulies(n_first_components,eigen_values)\n",
    "    #affichages\n",
    "    fig, axs = plt.subplots(1,2)\n",
    "    fig.set_figheight(4)\n",
    "    fig.set_figwidth(12)\n",
    "    axs[0].plot(the_range_inertie,inertie)\n",
    "    axs[0].set_xlabel(f'{n_first_components} premieres composantes')\n",
    "    axs[0].set_ylabel('inertie')\n",
    "    axs[0].set_title(f'Inertie des {n_first_components} premiere composantes')\n",
    "    axs[1].bar(the_range_eboulie,eboulie,1)\n",
    "    axs[1].set_xlabel(f'{n_first_components} premieres composantes')\n",
    "    axs[1].set_ylabel('eboulie')\n",
    "    axs[1].set_title(f'Eboulie   des {n_first_components} premiere composantes')\n",
    "\n",
    "show_inertie_eboulie(666,eigen_values)"
   ]
  },
  {
   "cell_type": "code",
   "execution_count": 84,
   "id": "55857452",
   "metadata": {},
   "outputs": [
    {
     "name": "stdout",
     "output_type": "stream",
     "text": [
      "154\n"
     ]
    }
   ],
   "source": [
    "composantes=0\n",
    "while inertie(composantes,eigen_values)<0.95:\n",
    "    composantes+=1\n",
    "print(composantes)\n"
   ]
  },
  {
   "cell_type": "code",
   "execution_count": 86,
   "id": "be969b42",
   "metadata": {},
   "outputs": [
    {
     "name": "stdout",
     "output_type": "stream",
     "text": [
      "Notre de matrice de passage possède une shape : (784, 784)\n",
      "Notre X possède une shape : (70000, 784)\n",
      "----\n",
      "Notre nouveau X possède une shape : (60000, 154)\n"
     ]
    }
   ],
   "source": [
    "new_P=P[:,:composantes]\n",
    "print(f'Notre de matrice de passage possède une shape : {P.shape}')\n",
    "print(f'Notre X possède une shape : {X.shape}')\n",
    "print('----')\n",
    "#On s'adapte aux shapes\n",
    "new_Xa=np.dot(new_P.T,Xa.T).T\n",
    "new_Xt=np.dot(new_P.T,Xt.T).T\n",
    "print(f'Notre nouveau X possède une shape : {new_X.shape}')"
   ]
  },
  {
   "cell_type": "code",
   "execution_count": 87,
   "id": "ee4953eb",
   "metadata": {},
   "outputs": [
    {
     "name": "stdout",
     "output_type": "stream",
     "text": [
      "Matrice de confusion :\n",
      "[[ 85   0   1   0   1   0   2   0   1   0]\n",
      " [  0 126   0   1   1   0   0   2   1   0]\n",
      " [  0   0 108   0   0   0   0   0   0   0]\n",
      " [  0   0   0 101   0   0   0   0   3   1]\n",
      " [  0   0   0   0 103   1   1   1   1   0]\n",
      " [  0   0   0   2   0  85   0   0   0   0]\n",
      " [  0   0   1   0   1   0  84   0   0   0]\n",
      " [  0   0   4   2   0   0   0  96   0   1]\n",
      " [  0   0   2   0   0   0   0   0  82   1]\n",
      " [  0   0   0   1   4   1   0   0   1  91]]\n",
      "Accuracy :\n",
      "              precision    recall  f1-score   support\n",
      "\n",
      "           0       1.00      0.94      0.97        90\n",
      "           1       1.00      0.96      0.98       131\n",
      "           2       0.93      1.00      0.96       108\n",
      "           3       0.94      0.96      0.95       105\n",
      "           4       0.94      0.96      0.95       107\n",
      "           5       0.98      0.98      0.98        87\n",
      "           6       0.97      0.98      0.97        86\n",
      "           7       0.97      0.93      0.95       103\n",
      "           8       0.92      0.96      0.94        85\n",
      "           9       0.97      0.93      0.95        98\n",
      "\n",
      "    accuracy                           0.96      1000\n",
      "   macro avg       0.96      0.96      0.96      1000\n",
      "weighted avg       0.96      0.96      0.96      1000\n",
      "\n"
     ]
    }
   ],
   "source": [
    "evaluerKnn(new_Xa,Ya,new_Xt,Yt,10,1000)"
   ]
  },
  {
   "cell_type": "code",
   "execution_count": 89,
   "id": "4d8face6",
   "metadata": {
    "scrolled": false
   },
   "outputs": [
    {
     "name": "stdout",
     "output_type": "stream",
     "text": [
      "Matrice de confusion :\n",
      "[[ 970    0   12    0    0    3    7    0    6    7]\n",
      " [   1 1130   11    3   12    1    5   27    4    6]\n",
      " [   1    2  979    2    0    0    0    4    4    2]\n",
      " [   0    1    4  976    0    5    0    0   12    9]\n",
      " [   0    0    1    1  934    1    3    2    5    8]\n",
      " [   2    0    0   12    0  866    1    0   11    1]\n",
      " [   5    2    3    0    7    9  941    0    2    1]\n",
      " [   1    0   17    7    2    1    0  979    9   11]\n",
      " [   0    0    5    6    1    1    1    0  913    1]\n",
      " [   0    0    0    3   26    5    0   16    8  963]]\n",
      "Accuracy :\n",
      "              precision    recall  f1-score   support\n",
      "\n",
      "           0       0.99      0.97      0.98      1005\n",
      "           1       1.00      0.94      0.97      1200\n",
      "           2       0.95      0.98      0.97       994\n",
      "           3       0.97      0.97      0.97      1007\n",
      "           4       0.95      0.98      0.96       955\n",
      "           5       0.97      0.97      0.97       893\n",
      "           6       0.98      0.97      0.98       970\n",
      "           7       0.95      0.95      0.95      1027\n",
      "           8       0.94      0.98      0.96       928\n",
      "           9       0.95      0.94      0.95      1021\n",
      "\n",
      "    accuracy                           0.97     10000\n",
      "   macro avg       0.96      0.97      0.97     10000\n",
      "weighted avg       0.97      0.97      0.97     10000\n",
      "\n"
     ]
    }
   ],
   "source": [
    "evaluerKnn(new_Xa,Ya,new_Xt,Yt,20,10000)"
   ]
  },
  {
   "cell_type": "code",
   "execution_count": 105,
   "id": "c5f291bf",
   "metadata": {},
   "outputs": [
    {
     "name": "stdout",
     "output_type": "stream",
     "text": [
      "0.9705\n"
     ]
    }
   ],
   "source": [
    "from sklearn.neighbors import KNeighborsClassifier\n",
    "neigh = KNeighborsClassifier(n_neighbors=3)\n",
    "neigh.fit(Xa, Ya)\n",
    "print(neigh.score(new_Xt,Yt))\n"
   ]
  },
  {
   "cell_type": "code",
   "execution_count": 108,
   "id": "e060422d",
   "metadata": {},
   "outputs": [
    {
     "name": "stdout",
     "output_type": "stream",
     "text": [
      "0.964\n"
     ]
    }
   ],
   "source": [
    "neigh2 = KNeighborsClassifier(n_neighbors=20)\n",
    "neigh2.fit(new_Xa, Ya)\n",
    "print(neigh2.score(new_Xt,Yt))"
   ]
  },
  {
   "cell_type": "code",
   "execution_count": null,
   "id": "c6bb757f",
   "metadata": {},
   "outputs": [],
   "source": []
  }
 ],
 "metadata": {
  "kernelspec": {
   "display_name": "Python 3 (ipykernel)",
   "language": "python",
   "name": "python3"
  },
  "language_info": {
   "codemirror_mode": {
    "name": "ipython",
    "version": 3
   },
   "file_extension": ".py",
   "mimetype": "text/x-python",
   "name": "python",
   "nbconvert_exporter": "python",
   "pygments_lexer": "ipython3",
   "version": "3.9.12"
  }
 },
 "nbformat": 4,
 "nbformat_minor": 5
}
